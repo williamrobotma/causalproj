{
 "cells": [
  {
   "cell_type": "code",
   "execution_count": 39,
   "metadata": {},
   "outputs": [],
   "source": [
    "import pandas as pd\n",
    "import numpy as np\n",
    "\n",
    "# import tensorflow as tf\n",
    "# from tensorflow import keras\n",
    "# from tensorflow.keras import layers\n",
    "# import semopy\n",
    "from sklearn.model_selection import train_test_split\n",
    "from sklearn.model_selection import KFold\n",
    "from sklearn.utils import shuffle\n",
    "import os\n",
    "\n",
    "data_dir = 'Data'\n",
    "P_cols = ['age_calculated',  'male', 'female',]\n",
    "\n",
    "o_col = ['ncipr_min_osat',]\n",
    "    \n",
    "    \n",
    "S_cols = ['Bluish Lips/Face',\n",
    "       'Chest Pressure/Chest Pain', 'Chills or Shaking',\n",
    "       'Complete Loss of Smell (Anosmia)', 'Complete Loss of Taste (Ageusia)',\n",
    "       'Confusion or Inability to Arouse', 'Cough',\n",
    "       'Diarrhea (>=3 loose/looser than normal stools/24 hr. period)',\n",
    "       'Ear pain', 'Eye Redness with or without Discharge',\n",
    "       'Fever (>100.4 F/38 C)', 'Headache', 'Muscle Pain/Body Aches',\n",
    "       'Nausea or Vomiting', 'None of these apply', 'Other',\n",
    "       'Partial Loss of Smell (Partial Anosmia)',\n",
    "       'Partial Loss of Taste (Partial Ageusia)',\n",
    "       'Runny Nose/Sinus Congestion',\n",
    "       'Shortness of Breath/Difficulty Breathing', 'Skin rash or Skin ulcers',\n",
    "       'Sneezing', 'Sore Throat', 'Unusual Fatigue/Lethargy', 'Wheezing']\n",
    "\n",
    "C_cols = ['Sore Throat']\n",
    "\n",
    "y_col =['ncipr_how_severe_self']\n",
    "\n",
    "a_col = ['oxygen_administered']\n",
    "T_cols = a_col + []\n",
    "\n",
    "\n",
    "data_path = os.path.join(data_dir, 'covid_data.pickle')\n"
   ]
  },
  {
   "cell_type": "code",
   "execution_count": 40,
   "metadata": {},
   "outputs": [],
   "source": [
    "def get_process_data(data_path,P_cols,S_cols, o_col, C_cols, a_col, y_col, test_size=0.2, random_state=23423,):\n",
    "    covid_df = pd.read_pickle(data_path).astype(np.float32)\n",
    "\n",
    "    if test_size == 0.0:\n",
    "        train_df = shuffle(covid_df, random_state=random_state)\n",
    "        test_df = pd.DataFrame(columns=train_df.columns)\n",
    "    else:    \n",
    "        train_df, test_df = train_test_split(covid_df, test_size=test_size, random_state=random_state)\n",
    "\n",
    "    train_dic = {'P':train_df[P_cols],\n",
    "                'S':train_df[S_cols],\n",
    "                'o':train_df[o_col],\n",
    "                'C':train_df[C_cols],\n",
    "                'T':train_df[a_col],\n",
    "                'y':train_df[y_col]\n",
    "                }\n",
    "\n",
    "    test_dic = {'P':test_df[P_cols],\n",
    "                'S':test_df[S_cols],\n",
    "                'o':test_df[o_col],\n",
    "                'C':test_df[C_cols],\n",
    "                'T':test_df[a_col],\n",
    "                'y':test_df[y_col]\n",
    "                }\n",
    "    return train_dic, test_dic"
   ]
  },
  {
   "cell_type": "code",
   "execution_count": 41,
   "metadata": {},
   "outputs": [],
   "source": [
    "# pd.concat(train_dic, axis=1)"
   ]
  },
  {
   "cell_type": "code",
   "execution_count": 42,
   "metadata": {},
   "outputs": [],
   "source": [
    "train_dic, test_dic = get_process_data(data_path,P_cols,S_cols, o_col, C_cols, a_col, y_col, test_size=0.0)"
   ]
  },
  {
   "cell_type": "code",
   "execution_count": 43,
   "metadata": {},
   "outputs": [],
   "source": [
    "# model_spec = f\"\"\"\n",
    "#     # measurement model\n",
    "#     U_a =~ {\" + \".join(X_cols)} + {\" + \".join(a_col)})\n",
    "#     U_y =~ {\" + \".join(X_cols)} + {\" + \".join(a_col)}) + {\" + \".join(y_col)})\n",
    "\n",
    "\n",
    "# \"\"\""
   ]
  },
  {
   "cell_type": "code",
   "execution_count": 44,
   "metadata": {},
   "outputs": [],
   "source": [
    "# \" + \".join(a_col)"
   ]
  },
  {
   "cell_type": "code",
   "execution_count": null,
   "metadata": {},
   "outputs": [],
   "source": []
  },
  {
   "cell_type": "code",
   "execution_count": 45,
   "metadata": {},
   "outputs": [],
   "source": [
    "# inputs = keras.Input(shape=(len(X_cols,)))\n",
    "# a = keras.layers.Dense(1, activation=None)(inputs)\n",
    "\n",
    "# y = keras.layers.Dense(1)(keras.layers.Concatenate()([inputs, a]))\n",
    "\n",
    "# model = keras.Model(inputs = inputs, outputs=[a,y])\n",
    "\n",
    "# model.compile(loss='mse')"
   ]
  },
  {
   "cell_type": "code",
   "execution_count": 46,
   "metadata": {},
   "outputs": [],
   "source": [
    "# model.summary()"
   ]
  },
  {
   "cell_type": "code",
   "execution_count": 47,
   "metadata": {},
   "outputs": [],
   "source": [
    "# history = model.fit(x=train_dic['X'], y=[train_dic['a'], train_dic['y']], epochs=100, validation_data=(test_dic['X'], [test_dic['a'], test_dic['y']]))"
   ]
  },
  {
   "cell_type": "code",
   "execution_count": 48,
   "metadata": {},
   "outputs": [],
   "source": [
    "# import matplotlib.pyplot as plt\n",
    "\n",
    "# plt.plot(history.history['dense_1_loss'])\n",
    "# plt.plot(history.history['val_dense_1_loss'])\n",
    "# plt.title('model mse')\n",
    "# plt.ylabel('mse')\n",
    "# plt.xlabel('epoch')\n",
    "# plt.legend(['train', 'val'], loc='best')\n",
    "# plt.show()"
   ]
  },
  {
   "cell_type": "code",
   "execution_count": 49,
   "metadata": {},
   "outputs": [],
   "source": [
    "# history.history['val_dense_1_loss'][np.argmin(history.history['dense_1_loss'])]"
   ]
  },
  {
   "cell_type": "code",
   "execution_count": 50,
   "metadata": {},
   "outputs": [
    {
     "data": {
      "text/html": [
       "<div>\n",
       "<style scoped>\n",
       "    .dataframe tbody tr th:only-of-type {\n",
       "        vertical-align: middle;\n",
       "    }\n",
       "\n",
       "    .dataframe tbody tr th {\n",
       "        vertical-align: top;\n",
       "    }\n",
       "\n",
       "    .dataframe thead th {\n",
       "        text-align: right;\n",
       "    }\n",
       "</style>\n",
       "<table border=\"1\" class=\"dataframe\">\n",
       "  <thead>\n",
       "    <tr style=\"text-align: right;\">\n",
       "      <th></th>\n",
       "      <th>ncipr_how_severe_self</th>\n",
       "    </tr>\n",
       "  </thead>\n",
       "  <tbody>\n",
       "    <tr>\n",
       "      <th>count</th>\n",
       "      <td>1747.000000</td>\n",
       "    </tr>\n",
       "    <tr>\n",
       "      <th>mean</th>\n",
       "      <td>1.503721</td>\n",
       "    </tr>\n",
       "    <tr>\n",
       "      <th>std</th>\n",
       "      <td>1.433267</td>\n",
       "    </tr>\n",
       "    <tr>\n",
       "      <th>min</th>\n",
       "      <td>0.000000</td>\n",
       "    </tr>\n",
       "    <tr>\n",
       "      <th>25%</th>\n",
       "      <td>1.000000</td>\n",
       "    </tr>\n",
       "    <tr>\n",
       "      <th>50%</th>\n",
       "      <td>1.000000</td>\n",
       "    </tr>\n",
       "    <tr>\n",
       "      <th>75%</th>\n",
       "      <td>3.000000</td>\n",
       "    </tr>\n",
       "    <tr>\n",
       "      <th>max</th>\n",
       "      <td>4.000000</td>\n",
       "    </tr>\n",
       "  </tbody>\n",
       "</table>\n",
       "</div>"
      ],
      "text/plain": [
       "       ncipr_how_severe_self\n",
       "count            1747.000000\n",
       "mean                1.503721\n",
       "std                 1.433267\n",
       "min                 0.000000\n",
       "25%                 1.000000\n",
       "50%                 1.000000\n",
       "75%                 3.000000\n",
       "max                 4.000000"
      ]
     },
     "execution_count": 50,
     "metadata": {},
     "output_type": "execute_result"
    }
   ],
   "source": [
    "train_dic['y'].describe()"
   ]
  },
  {
   "cell_type": "code",
   "execution_count": 51,
   "metadata": {},
   "outputs": [],
   "source": [
    "# import keras.backend as K\n",
    "\n",
    "# def customLoss(yTrue,yPred):\n",
    "#     return K.sum(K.log(yTrue) - K.log(yPred))"
   ]
  },
  {
   "cell_type": "code",
   "execution_count": 52,
   "metadata": {},
   "outputs": [],
   "source": [
    "import seaborn as sns"
   ]
  },
  {
   "cell_type": "code",
   "execution_count": 53,
   "metadata": {},
   "outputs": [
    {
     "data": {
      "text/plain": [
       "<seaborn.axisgrid.FacetGrid at 0x7f371fdae370>"
      ]
     },
     "execution_count": 53,
     "metadata": {},
     "output_type": "execute_result"
    },
    {
     "data": {
      "image/png": "[encoded data removed]",
      "text/plain": [
       "<Figure size 507.875x360 with 1 Axes>"
      ]
     },
     "metadata": {
      "needs_background": "light"
     },
     "output_type": "display_data"
    }
   ],
   "source": [
    "sns.displot(train_dic['y'])"
   ]
  },
  {
   "cell_type": "code",
   "execution_count": 54,
   "metadata": {},
   "outputs": [],
   "source": [
    "from sklearn.linear_model import LinearRegression\n",
    "from sklearn.linear_model import LogisticRegression\n",
    "from sklearn.metrics import mean_squared_error"
   ]
  },
  {
   "cell_type": "code",
   "execution_count": 55,
   "metadata": {},
   "outputs": [
    {
     "name": "stdout",
     "output_type": "stream",
     "text": [
      "fold 0 mse:  1.3787642\n",
      "fold 1 mse:  1.3191773\n",
      "fold 2 mse:  1.3942108\n",
      "fold 3 mse:  1.3363179\n",
      "fold 4 mse:  1.2785733\n"
     ]
    }
   ],
   "source": [
    "kf = KFold(n_splits=5)\n",
    "mses = []\n",
    "for i, (train_index, test_index) in enumerate(kf.split(pd.concat(train_dic, axis=1))):\n",
    "    a_in = np.hstack((train_dic['P'].iloc[train_index], train_dic['S'].iloc[train_index]))\n",
    "    a_out = train_dic['T'][a_col].iloc[train_index].to_numpy().ravel()\n",
    "    a_model = LogisticRegression(penalty='none', max_iter=10000).fit(a_in, a_out)\n",
    "\n",
    "    # a_model = LinearRegression().fit(np.hstack((train_dic['X'].iloc[train_index], train_dic['S'].iloc[train_index])), train_dic['a'].iloc[train_index])\n",
    "    # a_model.score(np.hstack((train_dic['X'], train_dic['S'])), train_dic['a'])\n",
    "    # a_hat = a_model.predict(np.hstack((train_dic['X'].iloc[train_index], train_dic['S'].iloc[train_index])))\n",
    "    y_in = np.concatenate((train_dic['P'].iloc[train_index], train_dic['S'].iloc[train_index], train_dic['T'][a_col].iloc[train_index]), axis=1)\n",
    "    y_out = train_dic['y'].iloc[train_index]\n",
    "    y_model = LinearRegression().fit(y_in, y_out)\n",
    "    # y_model = LinearRegression().fit(np.concatenate((train_dic['X'].iloc[train_index], train_dic['S'].iloc[train_index], a_hat), axis=1), train_dic['y'].iloc[train_index])\n",
    "    \n",
    "    # y_hat = y_model.predict(np.concatenate((train_dic['X'].iloc[test_index], train_dic['S'].iloc[test_index], a_model.predict(np.hstack((train_dic['X'].iloc[test_index], train_dic['S'].iloc[test_index]))).reshape(-1, 1)), axis=1))\n",
    "    y_hat = y_model.predict(np.concatenate((train_dic['P'].iloc[test_index], train_dic['S'].iloc[test_index], train_dic['T'][a_col].iloc[test_index]), axis=1))\n",
    "    \n",
    "\n",
    "    mses.append(mean_squared_error(y_hat, train_dic['y'].iloc[test_index]))\n",
    "    print(f'fold {i} mse: ', mses[-1])\n",
    "    \n",
    "    \n"
   ]
  },
  {
   "cell_type": "code",
   "execution_count": 56,
   "metadata": {},
   "outputs": [
    {
     "data": {
      "text/plain": [
       "1.3414087"
      ]
     },
     "execution_count": 56,
     "metadata": {},
     "output_type": "execute_result"
    }
   ],
   "source": [
    "np.mean(mses)"
   ]
  },
  {
   "cell_type": "code",
   "execution_count": 57,
   "metadata": {},
   "outputs": [],
   "source": [
    "a_model = LogisticRegression(penalty='none', max_iter=10000).fit(np.hstack((train_dic['P'], train_dic['S'])), train_dic['T'][a_col].to_numpy().ravel())\n",
    "a_hat = a_model.predict(np.hstack((train_dic['P'], train_dic['S']))).reshape(-1, 1)\n",
    "y_model = LinearRegression().fit(np.concatenate((train_dic['P'], train_dic['S'], train_dic['T'][a_col]), axis=1), train_dic['y'])\n",
    "# y_hat = y_model.predict(np.concatenate((train_dic['X'], train_dic['S'], a_model.predict(np.hstack((train_dic['X'], train_dic['S'])))), axis=1))\n",
    "y_hat = y_model.predict(np.concatenate((train_dic['P'], train_dic['S'], train_dic['T'][a_col]), axis=1))\n"
   ]
  },
  {
   "cell_type": "code",
   "execution_count": 58,
   "metadata": {},
   "outputs": [],
   "source": [
    "## Abduction\n",
    "\n",
    "U_a = train_dic['T'][a_col] - a_hat\n",
    "U_y = train_dic['y'] - y_hat"
   ]
  },
  {
   "cell_type": "code",
   "execution_count": 59,
   "metadata": {},
   "outputs": [],
   "source": [
    "## Action, Prediction\n",
    "y_TO0 = y_model.predict(np.concatenate((train_dic['P'], train_dic['S'], np.zeros_like(train_dic['T'][a_col])), axis=1)) + U_y"
   ]
  },
  {
   "cell_type": "code",
   "execution_count": null,
   "metadata": {},
   "outputs": [],
   "source": []
  },
  {
   "cell_type": "code",
   "execution_count": 60,
   "metadata": {},
   "outputs": [],
   "source": [
    "import matplotlib.pyplot as plt\n",
    "import seaborn as sns\n",
    "\n",
    "def bland_altman_plot(data1, data2, *args, **kwargs):\n",
    "    data1     = np.asarray(data1)\n",
    "    data2     = np.asarray(data2)\n",
    "    mean      = np.mean([data1, data2], axis=0)\n",
    "    diff      = data1 - data2                   # Difference between data1 and data2\n",
    "    md        = np.mean(diff)                   # Mean of the difference\n",
    "    sd        = np.std(diff, axis=0)            # Standard deviation of the difference\n",
    "\n",
    "    plt.scatter(mean, diff, *args, **kwargs)\n",
    "    plt.axhline(md,           color='gray', linestyle='--')\n",
    "    plt.axhline(md + 1.96*sd, color='gray', linestyle='--')\n",
    "    plt.axhline(md - 1.96*sd, color='gray', linestyle='--')"
   ]
  },
  {
   "cell_type": "code",
   "execution_count": 61,
   "metadata": {},
   "outputs": [],
   "source": [
    "def plot_change():\n",
    "    train_df = pd.concat(train_dic, axis=1)\n",
    "    train_df['y_TO0'] = y_TO0\n",
    "    train_ox_df = train_df[train_df[('T', a_col[0])] == 1.0]\n",
    "\n",
    "    plt.figure()\n",
    "    bland_altman_plot( train_ox_df['y_TO0'].values.flatten(), train_ox_df['y'].values.flatten(),)\n",
    "    # plt.ylim(-5, 5)\n",
    "\n",
    "    plt.figure()\n",
    "    sns.displot(data=train_ox_df[['y', 'y_TO0']], kind='kde')"
   ]
  },
  {
   "cell_type": "code",
   "execution_count": 62,
   "metadata": {},
   "outputs": [
    {
     "data": {
      "image/png": "[encoded data removed]",
      "text/plain": [
       "<Figure size 432x288 with 1 Axes>"
      ]
     },
     "metadata": {
      "needs_background": "light"
     },
     "output_type": "display_data"
    },
    {
     "data": {
      "text/plain": [
       "<Figure size 432x288 with 0 Axes>"
      ]
     },
     "metadata": {},
     "output_type": "display_data"
    },
    {
     "data": {
      "image/png": "[encoded data removed]",
      "text/plain": [
       "<Figure size 426.875x360 with 1 Axes>"
      ]
     },
     "metadata": {
      "needs_background": "light"
     },
     "output_type": "display_data"
    }
   ],
   "source": [
    "plot_change()"
   ]
  },
  {
   "cell_type": "markdown",
   "metadata": {},
   "source": [
    "## Complicated DAG\n"
   ]
  },
  {
   "cell_type": "code",
   "execution_count": 63,
   "metadata": {},
   "outputs": [
    {
     "name": "stdout",
     "output_type": "stream",
     "text": [
      "fold 0 mse:  1.4304049\n",
      "fold 1 mse:  1.3341823\n",
      "fold 2 mse:  1.431604\n",
      "fold 3 mse:  1.3731824\n",
      "fold 4 mse:  1.2893462\n"
     ]
    }
   ],
   "source": [
    "kf = KFold(n_splits=5)\n",
    "mses = []\n",
    "for i, (train_index, test_index) in enumerate(kf.split(pd.concat(train_dic, axis=1))):\n",
    "    t_in = np.hstack((train_dic['P'].iloc[train_index], train_dic['S'].iloc[train_index]))\n",
    "    t_out = train_dic['T'].iloc[train_index]\n",
    "    t_model = LinearRegression().fit(t_in, t_out)\n",
    "    t_hat = t_model.predict(t_in)\n",
    "\n",
    "    o_in = np.hstack((train_dic['S'].iloc[train_index], t_hat,))\n",
    "    o_out = train_dic['o'].iloc[train_index]\n",
    "    o_model = LinearRegression().fit(o_in, o_out)\n",
    "    o_hat = o_model.predict(o_in)\n",
    "\n",
    "    c_in = np.hstack((train_dic['P'].iloc[train_index], train_dic['S'].iloc[train_index], t_hat,))\n",
    "    c_out = train_dic['C'].iloc[train_index]\n",
    "    c_model = LinearRegression().fit(c_in, c_out)\n",
    "    c_hat = c_model.predict(c_in)\n",
    "\n",
    "    y_in = np.concatenate((train_dic['P'].iloc[train_index], train_dic['S'].iloc[train_index], t_hat, c_hat, o_hat), axis=1)\n",
    "    y_out = train_dic['y'].iloc[train_index]\n",
    "    y_model = LinearRegression().fit(y_in, y_out)\n",
    "    # y_model = LinearRegression().fit(np.concatenate((train_dic['X'].iloc[train_index], train_dic['S'].iloc[train_index], a_hat), axis=1), train_dic['y'].iloc[train_index])\n",
    "    \n",
    "    t_hat = t_model.predict(np.hstack((train_dic['P'].iloc[test_index], train_dic['S'].iloc[test_index])))\n",
    "    \n",
    "    o_hat = o_model.predict(np.hstack((train_dic['S'].iloc[test_index], t_hat,)))\n",
    "    c_hat = c_model.predict(np.hstack((train_dic['P'].iloc[test_index], train_dic['S'].iloc[test_index], t_hat,)))\n",
    "\n",
    "    y_in = np.concatenate((train_dic['P'].iloc[test_index], train_dic['S'].iloc[test_index], t_hat, c_hat, o_hat), axis=1)\n",
    "    y_out = train_dic['y'].iloc[test_index]\n",
    "    y_hat = y_model.predict(y_in)\n",
    "    \n",
    "\n",
    "    mses.append(mean_squared_error(y_hat, y_out))\n",
    "    print(f'fold {i} mse: ', mses[-1])"
   ]
  },
  {
   "cell_type": "code",
   "execution_count": 64,
   "metadata": {},
   "outputs": [
    {
     "data": {
      "text/plain": [
       "1.3717439"
      ]
     },
     "execution_count": 64,
     "metadata": {},
     "output_type": "execute_result"
    }
   ],
   "source": [
    "np.mean(mses)"
   ]
  },
  {
   "cell_type": "code",
   "execution_count": 65,
   "metadata": {},
   "outputs": [],
   "source": [
    "t_in = np.hstack((train_dic['P'], train_dic['S']))\n",
    "t_out = train_dic['T']\n",
    "t_model = LinearRegression().fit(t_in, t_out)\n",
    "t_hat = t_model.predict(t_in)\n",
    "\n",
    "o_in = np.hstack((train_dic['S'], t_hat,))\n",
    "o_out = train_dic['o']\n",
    "o_model = LinearRegression().fit(o_in, o_out)\n",
    "o_hat = o_model.predict(o_in)\n",
    "\n",
    "c_in = np.hstack((train_dic['P'], train_dic['S'], t_hat,))\n",
    "c_out = train_dic['C']\n",
    "c_model = LinearRegression().fit(c_in, c_out)\n",
    "c_hat = c_model.predict(c_in)\n",
    "\n",
    "y_in = np.concatenate((train_dic['P'], train_dic['S'], t_hat, c_hat, o_hat), axis=1)\n",
    "y_out = train_dic['y']\n",
    "y_model = LinearRegression().fit(y_in, y_out)\n",
    "# y_model = LinearRegression().fit(np.concatenate((train_dic['X'].iloc[train_index], train_dic['S'].iloc[train_index], a_hat), axis=1), train_dic['y'].iloc[train_index])\n"
   ]
  },
  {
   "cell_type": "markdown",
   "metadata": {},
   "source": [
    "### Abduction"
   ]
  },
  {
   "cell_type": "code",
   "execution_count": 66,
   "metadata": {},
   "outputs": [],
   "source": [
    "\n",
    "t_hat = t_model.predict(np.hstack((train_dic['P'], train_dic['S'])))\n",
    "\n",
    "o_hat = o_model.predict(np.hstack((train_dic['S'], t_hat,)))\n",
    "c_hat = c_model.predict(np.hstack((train_dic['P'], train_dic['S'], t_hat,)))\n",
    "\n",
    "y_in = np.concatenate((train_dic['P'], train_dic['S'], t_hat, c_hat, o_hat), axis=1)\n",
    "y_out = train_dic['y']\n",
    "y_hat = y_model.predict(y_in)"
   ]
  },
  {
   "cell_type": "code",
   "execution_count": 67,
   "metadata": {},
   "outputs": [],
   "source": [
    "U_t = train_dic['T'] - t_hat \n",
    "U_o = train_dic['o'] - o_hat \n",
    "U_c = train_dic['C'] - c_hat \n",
    "U_y = train_dic['y'] - y_hat"
   ]
  },
  {
   "cell_type": "markdown",
   "metadata": {},
   "source": [
    "### Action"
   ]
  },
  {
   "cell_type": "code",
   "execution_count": 68,
   "metadata": {},
   "outputs": [],
   "source": [
    "# t_O0 = t_hat\n",
    "t_hat[T_cols.index(a_col[0])] = 0.0\n"
   ]
  },
  {
   "cell_type": "markdown",
   "metadata": {},
   "source": [
    "### Prediction"
   ]
  },
  {
   "cell_type": "code",
   "execution_count": 69,
   "metadata": {},
   "outputs": [],
   "source": [
    "\n",
    "o_hat = o_model.predict(np.hstack((train_dic['S'], t_hat,))) + U_o\n",
    "c_hat = c_model.predict(np.hstack((train_dic['P'], train_dic['S'], t_hat,))) + U_c\n",
    "\n",
    "y_in = np.concatenate((train_dic['P'], train_dic['S'], t_hat, c_hat, o_hat), axis=1)\n",
    "# y_out = train_dic['y']\n",
    "y_TO0 = y_model.predict(y_in) + U_y"
   ]
  },
  {
   "cell_type": "code",
   "execution_count": 70,
   "metadata": {},
   "outputs": [
    {
     "data": {
      "image/png": "[encoded data removed]",
      "text/plain": [
       "<Figure size 432x288 with 1 Axes>"
      ]
     },
     "metadata": {
      "needs_background": "light"
     },
     "output_type": "display_data"
    },
    {
     "data": {
      "text/plain": [
       "<Figure size 432x288 with 0 Axes>"
      ]
     },
     "metadata": {},
     "output_type": "display_data"
    },
    {
     "data": {
      "image/png": "[encoded data removed]",
      "text/plain": [
       "<Figure size 426.875x360 with 1 Axes>"
      ]
     },
     "metadata": {
      "needs_background": "light"
     },
     "output_type": "display_data"
    }
   ],
   "source": [
    "plot_change()"
   ]
  },
  {
   "cell_type": "markdown",
   "metadata": {},
   "source": []
  }
 ],
 "metadata": {
  "interpreter": {
   "hash": "18205b7671c3b1a2968bf62dbaf8af2c8d2e76e01b9c19fe53200cb0bef1a871"
  },
  "kernelspec": {
   "display_name": "Python 3.9.5 ('.py39.env': venv)",
   "language": "python",
   "name": "python3"
  },
  "language_info": {
   "codemirror_mode": {
    "name": "ipython",
    "version": 3
   },
   "file_extension": ".py",
   "mimetype": "text/x-python",
   "name": "python",
   "nbconvert_exporter": "python",
   "pygments_lexer": "ipython3",
   "version": "3.9.5"
  },
  "orig_nbformat": 4
 },
 "nbformat": 4,
 "nbformat_minor": 2
}
