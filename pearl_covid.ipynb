{
 "cells": [
  {
   "cell_type": "code",
   "execution_count": 1,
   "metadata": {},
   "outputs": [
    {
     "name": "stderr",
     "output_type": "stream",
     "text": [
      "2022-05-01 00:37:25.612985: W tensorflow/stream_executor/platform/default/dso_loader.cc:64] Could not load dynamic library 'libcudart.so.11.0'; dlerror: libcudart.so.11.0: cannot open shared object file: No such file or directory\n",
      "2022-05-01 00:37:25.613054: I tensorflow/stream_executor/cuda/cudart_stub.cc:29] Ignore above cudart dlerror if you do not have a GPU set up on your machine.\n"
     ]
    }
   ],
   "source": [
    "import pandas as pd\n",
    "import numpy as np\n",
    "\n",
    "# import tensorflow as tf\n",
    "from tensorflow import keras\n",
    "# from tensorflow.keras import layers\n",
    "# import semopy\n",
    "from sklearn.model_selection import train_test_split\n",
    "import os\n",
    "\n",
    "data_dir = 'Data'\n",
    "X_cols = ['age_calculated', 'ncipr_min_osat', 'male', 'female', 'Bluish Lips/Face',\n",
    "       'Chest Pressure/Chest Pain', 'Chills or Shaking',\n",
    "       'Complete Loss of Smell (Anosmia)', 'Complete Loss of Taste (Ageusia)',\n",
    "       'Confusion or Inability to Arouse', 'Cough',\n",
    "       'Diarrhea (>=3 loose/looser than normal stools/24 hr. period)',\n",
    "       'Ear pain', 'Eye Redness with or without Discharge',\n",
    "       'Fever (>100.4 F/38 C)', 'Headache', 'Muscle Pain/Body Aches',\n",
    "       'Nausea or Vomiting', 'None of these apply', 'Other',\n",
    "       'Partial Loss of Smell (Partial Anosmia)',\n",
    "       'Partial Loss of Taste (Partial Ageusia)',\n",
    "       'Runny Nose/Sinus Congestion',\n",
    "       'Shortness of Breath/Difficulty Breathing', 'Skin rash or Skin ulcers',\n",
    "       'Sneezing', 'Sore Throat', 'Unusual Fatigue/Lethargy', 'Wheezing']\n",
    "\n",
    "y_col =['ncipr_how_severe_self']\n",
    "\n",
    "a_col = ['oxygen_administered']\n",
    "\n",
    "\n",
    "data_path = os.path.join(data_dir, 'covid_data.pickle')\n"
   ]
  },
  {
   "cell_type": "code",
   "execution_count": 2,
   "metadata": {},
   "outputs": [],
   "source": [
    "def get_process_data(data_path, X_cols, y_col, a_col, test_size=0.2, random_state=23423):\n",
    "    covid_df = pd.read_pickle(data_path).astype(np.float32)\n",
    "    train_df, test_df = train_test_split(covid_df, test_size=test_size, random_state=random_state)\n",
    "\n",
    "    train_dic = {'X':train_df[X_cols],\n",
    "                'a':train_df[a_col],\n",
    "                'y':train_df[y_col]\n",
    "                }\n",
    "\n",
    "    test_dic = {'X':test_df[X_cols],\n",
    "                'a':test_df[a_col],\n",
    "                'y':test_df[y_col]\n",
    "            }\n",
    "    return train_dic, test_dic"
   ]
  },
  {
   "cell_type": "code",
   "execution_count": 3,
   "metadata": {},
   "outputs": [],
   "source": [
    "train_dic, test_dic = get_process_data(data_path,X_cols, y_col, a_col,)"
   ]
  },
  {
   "cell_type": "code",
   "execution_count": 4,
   "metadata": {},
   "outputs": [],
   "source": [
    "# model_spec = f\"\"\"\n",
    "#     # measurement model\n",
    "#     U_a =~ {\" + \".join(X_cols)} + {\" + \".join(a_col)})\n",
    "#     U_y =~ {\" + \".join(X_cols)} + {\" + \".join(a_col)}) + {\" + \".join(y_col)})\n",
    "\n",
    "\n",
    "# \"\"\""
   ]
  },
  {
   "cell_type": "code",
   "execution_count": 5,
   "metadata": {},
   "outputs": [],
   "source": [
    "# \" + \".join(a_col)"
   ]
  },
  {
   "cell_type": "code",
   "execution_count": null,
   "metadata": {},
   "outputs": [],
   "source": []
  },
  {
   "cell_type": "code",
   "execution_count": 6,
   "metadata": {},
   "outputs": [
    {
     "name": "stderr",
     "output_type": "stream",
     "text": [
      "2022-05-01 00:37:30.786487: I tensorflow/stream_executor/cuda/cuda_gpu_executor.cc:922] could not open file to read NUMA node: /sys/bus/pci/devices/0000:01:00.0/numa_node\n",
      "Your kernel may have been built without NUMA support.\n",
      "2022-05-01 00:37:30.788648: W tensorflow/stream_executor/platform/default/dso_loader.cc:64] Could not load dynamic library 'libcudart.so.11.0'; dlerror: libcudart.so.11.0: cannot open shared object file: No such file or directory\n",
      "2022-05-01 00:37:30.788718: W tensorflow/stream_executor/platform/default/dso_loader.cc:64] Could not load dynamic library 'libcublas.so.11'; dlerror: libcublas.so.11: cannot open shared object file: No such file or directory\n",
      "2022-05-01 00:37:30.788761: W tensorflow/stream_executor/platform/default/dso_loader.cc:64] Could not load dynamic library 'libcublasLt.so.11'; dlerror: libcublasLt.so.11: cannot open shared object file: No such file or directory\n",
      "2022-05-01 00:37:30.788804: W tensorflow/stream_executor/platform/default/dso_loader.cc:64] Could not load dynamic library 'libcufft.so.10'; dlerror: libcufft.so.10: cannot open shared object file: No such file or directory\n",
      "2022-05-01 00:37:30.788847: W tensorflow/stream_executor/platform/default/dso_loader.cc:64] Could not load dynamic library 'libcurand.so.10'; dlerror: libcurand.so.10: cannot open shared object file: No such file or directory\n",
      "2022-05-01 00:37:30.788888: W tensorflow/stream_executor/platform/default/dso_loader.cc:64] Could not load dynamic library 'libcusolver.so.11'; dlerror: libcusolver.so.11: cannot open shared object file: No such file or directory\n",
      "2022-05-01 00:37:30.788929: W tensorflow/stream_executor/platform/default/dso_loader.cc:64] Could not load dynamic library 'libcusparse.so.11'; dlerror: libcusparse.so.11: cannot open shared object file: No such file or directory\n",
      "2022-05-01 00:37:30.788971: W tensorflow/stream_executor/platform/default/dso_loader.cc:64] Could not load dynamic library 'libcudnn.so.8'; dlerror: libcudnn.so.8: cannot open shared object file: No such file or directory\n",
      "2022-05-01 00:37:30.788978: W tensorflow/core/common_runtime/gpu/gpu_device.cc:1850] Cannot dlopen some GPU libraries. Please make sure the missing libraries mentioned above are installed properly if you would like to use GPU. Follow the guide at https://www.tensorflow.org/install/gpu for how to download and setup the required libraries for your platform.\n",
      "Skipping registering GPU devices...\n",
      "2022-05-01 00:37:30.789321: I tensorflow/core/platform/cpu_feature_guard.cc:151] This TensorFlow binary is optimized with oneAPI Deep Neural Network Library (oneDNN) to use the following CPU instructions in performance-critical operations:  AVX2 FMA\n",
      "To enable them in other operations, rebuild TensorFlow with the appropriate compiler flags.\n"
     ]
    }
   ],
   "source": [
    "inputs = keras.Input(shape=(len(X_cols,)))\n",
    "a = keras.layers.Dense(1, activation=None)(inputs)\n",
    "\n",
    "y = keras.layers.Dense(1)(keras.layers.Concatenate()([inputs, a]))\n",
    "\n",
    "model = keras.Model(inputs = inputs, outputs=[a,y])\n",
    "\n",
    "model.compile(loss='mse')"
   ]
  },
  {
   "cell_type": "code",
   "execution_count": 7,
   "metadata": {},
   "outputs": [],
   "source": [
    "# model.summary()"
   ]
  },
  {
   "cell_type": "code",
   "execution_count": 8,
   "metadata": {},
   "outputs": [
    {
     "name": "stdout",
     "output_type": "stream",
     "text": [
      "Epoch 1/100\n",
      "44/44 [==============================] - 1s 6ms/step - loss: 2467.1328 - dense_loss: 2458.0261 - dense_1_loss: 9.1062 - val_loss: 2136.7559 - val_dense_loss: 2129.0779 - val_dense_1_loss: 7.6779\n",
      "Epoch 2/100\n",
      "44/44 [==============================] - 0s 2ms/step - loss: 1864.3336 - dense_loss: 1857.7181 - dense_1_loss: 6.6156 - val_loss: 1596.5425 - val_dense_loss: 1590.9496 - val_dense_1_loss: 5.5928\n",
      "Epoch 3/100\n",
      "44/44 [==============================] - 0s 2ms/step - loss: 1364.2275 - dense_loss: 1359.4663 - dense_1_loss: 4.7614 - val_loss: 1138.1584 - val_dense_loss: 1134.2903 - val_dense_1_loss: 3.8681\n",
      "Epoch 4/100\n",
      "44/44 [==============================] - 0s 2ms/step - loss: 944.5013 - dense_loss: 941.1146 - dense_1_loss: 3.3865 - val_loss: 759.8207 - val_dense_loss: 757.0368 - val_dense_1_loss: 2.7839\n",
      "Epoch 5/100\n",
      "44/44 [==============================] - 0s 2ms/step - loss: 604.8997 - dense_loss: 602.4113 - dense_1_loss: 2.4884 - val_loss: 460.6123 - val_dense_loss: 458.3463 - val_dense_1_loss: 2.2659\n",
      "Epoch 6/100\n",
      "44/44 [==============================] - 0s 2ms/step - loss: 345.3568 - dense_loss: 343.3505 - dense_1_loss: 2.0064 - val_loss: 240.4991 - val_dense_loss: 238.6853 - val_dense_1_loss: 1.8138\n",
      "Epoch 7/100\n",
      "44/44 [==============================] - 0s 2ms/step - loss: 161.7164 - dense_loss: 159.9917 - dense_1_loss: 1.7247 - val_loss: 95.1468 - val_dense_loss: 93.5316 - val_dense_1_loss: 1.6152\n",
      "Epoch 8/100\n",
      "44/44 [==============================] - 0s 3ms/step - loss: 52.6664 - dense_loss: 51.0906 - dense_1_loss: 1.5758 - val_loss: 21.9348 - val_dense_loss: 20.4177 - val_dense_1_loss: 1.5171\n",
      "Epoch 9/100\n",
      "44/44 [==============================] - 0s 2ms/step - loss: 10.0130 - dense_loss: 8.5216 - dense_1_loss: 1.4914 - val_loss: 5.0126 - val_dense_loss: 3.5408 - val_dense_1_loss: 1.4717\n",
      "Epoch 10/100\n",
      "44/44 [==============================] - 0s 2ms/step - loss: 4.4916 - dense_loss: 3.0200 - dense_1_loss: 1.4716 - val_loss: 4.1418 - val_dense_loss: 2.6732 - val_dense_1_loss: 1.4685\n",
      "Epoch 11/100\n",
      "44/44 [==============================] - 0s 2ms/step - loss: 3.7798 - dense_loss: 2.3413 - dense_1_loss: 1.4385 - val_loss: 3.5312 - val_dense_loss: 2.0681 - val_dense_1_loss: 1.4631\n",
      "Epoch 12/100\n",
      "44/44 [==============================] - 0s 2ms/step - loss: 3.2656 - dense_loss: 1.8150 - dense_1_loss: 1.4506 - val_loss: 3.0945 - val_dense_loss: 1.6162 - val_dense_1_loss: 1.4783\n",
      "Epoch 13/100\n",
      "44/44 [==============================] - 0s 2ms/step - loss: 2.9041 - dense_loss: 1.4492 - dense_1_loss: 1.4549 - val_loss: 2.7652 - val_dense_loss: 1.2872 - val_dense_1_loss: 1.4779\n",
      "Epoch 14/100\n",
      "44/44 [==============================] - 0s 3ms/step - loss: 2.6238 - dense_loss: 1.1745 - dense_1_loss: 1.4493 - val_loss: 2.5202 - val_dense_loss: 1.0639 - val_dense_1_loss: 1.4563\n",
      "Epoch 15/100\n",
      "44/44 [==============================] - 0s 3ms/step - loss: 2.3874 - dense_loss: 0.9665 - dense_1_loss: 1.4209 - val_loss: 2.3630 - val_dense_loss: 0.8688 - val_dense_1_loss: 1.4942\n",
      "Epoch 16/100\n",
      "44/44 [==============================] - 0s 2ms/step - loss: 2.2099 - dense_loss: 0.7948 - dense_1_loss: 1.4152 - val_loss: 2.2214 - val_dense_loss: 0.7334 - val_dense_1_loss: 1.4880\n",
      "Epoch 17/100\n",
      "44/44 [==============================] - 0s 2ms/step - loss: 2.0870 - dense_loss: 0.6536 - dense_1_loss: 1.4334 - val_loss: 2.1581 - val_dense_loss: 0.6182 - val_dense_1_loss: 1.5398\n",
      "Epoch 18/100\n",
      "44/44 [==============================] - 0s 2ms/step - loss: 1.9585 - dense_loss: 0.5498 - dense_1_loss: 1.4087 - val_loss: 1.9872 - val_dense_loss: 0.5127 - val_dense_1_loss: 1.4745\n",
      "Epoch 19/100\n",
      "44/44 [==============================] - 0s 2ms/step - loss: 1.8669 - dense_loss: 0.4629 - dense_1_loss: 1.4040 - val_loss: 1.9128 - val_dense_loss: 0.4729 - val_dense_1_loss: 1.4399\n",
      "Epoch 20/100\n",
      "44/44 [==============================] - 0s 2ms/step - loss: 1.8020 - dense_loss: 0.4031 - dense_1_loss: 1.3989 - val_loss: 1.8345 - val_dense_loss: 0.3999 - val_dense_1_loss: 1.4346\n",
      "Epoch 21/100\n",
      "44/44 [==============================] - 0s 2ms/step - loss: 1.7344 - dense_loss: 0.3512 - dense_1_loss: 1.3833 - val_loss: 1.7798 - val_dense_loss: 0.3584 - val_dense_1_loss: 1.4213\n",
      "Epoch 22/100\n",
      "44/44 [==============================] - 0s 2ms/step - loss: 1.7008 - dense_loss: 0.3224 - dense_1_loss: 1.3784 - val_loss: 1.7790 - val_dense_loss: 0.3156 - val_dense_1_loss: 1.4634\n",
      "Epoch 23/100\n",
      "44/44 [==============================] - 0s 2ms/step - loss: 1.6700 - dense_loss: 0.2807 - dense_1_loss: 1.3893 - val_loss: 1.7081 - val_dense_loss: 0.2881 - val_dense_1_loss: 1.4199\n",
      "Epoch 24/100\n",
      "44/44 [==============================] - 0s 2ms/step - loss: 1.6358 - dense_loss: 0.2611 - dense_1_loss: 1.3746 - val_loss: 1.6912 - val_dense_loss: 0.2767 - val_dense_1_loss: 1.4144\n",
      "Epoch 25/100\n",
      "44/44 [==============================] - 0s 2ms/step - loss: 1.5926 - dense_loss: 0.2459 - dense_1_loss: 1.3468 - val_loss: 1.7116 - val_dense_loss: 0.2525 - val_dense_1_loss: 1.4590\n",
      "Epoch 26/100\n",
      "44/44 [==============================] - 0s 2ms/step - loss: 1.5743 - dense_loss: 0.2269 - dense_1_loss: 1.3474 - val_loss: 1.7751 - val_dense_loss: 0.2342 - val_dense_1_loss: 1.5409\n",
      "Epoch 27/100\n",
      "44/44 [==============================] - 0s 2ms/step - loss: 1.5599 - dense_loss: 0.2129 - dense_1_loss: 1.3470 - val_loss: 1.6430 - val_dense_loss: 0.2190 - val_dense_1_loss: 1.4239\n",
      "Epoch 28/100\n",
      "44/44 [==============================] - 0s 2ms/step - loss: 1.5342 - dense_loss: 0.1975 - dense_1_loss: 1.3367 - val_loss: 1.6310 - val_dense_loss: 0.2060 - val_dense_1_loss: 1.4251\n",
      "Epoch 29/100\n",
      "44/44 [==============================] - 0s 2ms/step - loss: 1.5331 - dense_loss: 0.1886 - dense_1_loss: 1.3445 - val_loss: 1.6889 - val_dense_loss: 0.2101 - val_dense_1_loss: 1.4788\n",
      "Epoch 30/100\n",
      "44/44 [==============================] - 0s 2ms/step - loss: 1.5355 - dense_loss: 0.1754 - dense_1_loss: 1.3600 - val_loss: 1.6330 - val_dense_loss: 0.1830 - val_dense_1_loss: 1.4500\n",
      "Epoch 31/100\n",
      "44/44 [==============================] - 0s 2ms/step - loss: 1.5206 - dense_loss: 0.1706 - dense_1_loss: 1.3500 - val_loss: 1.6802 - val_dense_loss: 0.2102 - val_dense_1_loss: 1.4700\n",
      "Epoch 32/100\n",
      "44/44 [==============================] - 0s 2ms/step - loss: 1.5039 - dense_loss: 0.1634 - dense_1_loss: 1.3406 - val_loss: 1.6041 - val_dense_loss: 0.1752 - val_dense_1_loss: 1.4289\n",
      "Epoch 33/100\n",
      "44/44 [==============================] - 0s 2ms/step - loss: 1.4954 - dense_loss: 0.1583 - dense_1_loss: 1.3371 - val_loss: 1.5851 - val_dense_loss: 0.1617 - val_dense_1_loss: 1.4234\n",
      "Epoch 34/100\n",
      "44/44 [==============================] - 0s 2ms/step - loss: 1.4861 - dense_loss: 0.1503 - dense_1_loss: 1.3358 - val_loss: 1.7497 - val_dense_loss: 0.1731 - val_dense_1_loss: 1.5766\n",
      "Epoch 35/100\n",
      "44/44 [==============================] - 0s 2ms/step - loss: 1.4892 - dense_loss: 0.1489 - dense_1_loss: 1.3403 - val_loss: 1.8102 - val_dense_loss: 0.1773 - val_dense_1_loss: 1.6329\n",
      "Epoch 36/100\n",
      "44/44 [==============================] - 0s 2ms/step - loss: 1.4852 - dense_loss: 0.1470 - dense_1_loss: 1.3381 - val_loss: 1.6704 - val_dense_loss: 0.1821 - val_dense_1_loss: 1.4882\n",
      "Epoch 37/100\n",
      "44/44 [==============================] - 0s 2ms/step - loss: 1.4980 - dense_loss: 0.1390 - dense_1_loss: 1.3590 - val_loss: 1.6389 - val_dense_loss: 0.1492 - val_dense_1_loss: 1.4897\n",
      "Epoch 38/100\n",
      "44/44 [==============================] - 0s 2ms/step - loss: 1.4870 - dense_loss: 0.1348 - dense_1_loss: 1.3521 - val_loss: 1.5546 - val_dense_loss: 0.1397 - val_dense_1_loss: 1.4148\n",
      "Epoch 39/100\n",
      "44/44 [==============================] - 0s 2ms/step - loss: 1.4805 - dense_loss: 0.1355 - dense_1_loss: 1.3450 - val_loss: 1.5579 - val_dense_loss: 0.1421 - val_dense_1_loss: 1.4158\n",
      "Epoch 40/100\n",
      "44/44 [==============================] - 0s 2ms/step - loss: 1.4591 - dense_loss: 0.1335 - dense_1_loss: 1.3256 - val_loss: 1.5703 - val_dense_loss: 0.1333 - val_dense_1_loss: 1.4370\n",
      "Epoch 41/100\n",
      "44/44 [==============================] - 0s 3ms/step - loss: 1.4725 - dense_loss: 0.1281 - dense_1_loss: 1.3445 - val_loss: 1.5643 - val_dense_loss: 0.1374 - val_dense_1_loss: 1.4269\n",
      "Epoch 42/100\n",
      "44/44 [==============================] - 0s 2ms/step - loss: 1.4634 - dense_loss: 0.1301 - dense_1_loss: 1.3333 - val_loss: 1.6109 - val_dense_loss: 0.1398 - val_dense_1_loss: 1.4712\n",
      "Epoch 43/100\n",
      "44/44 [==============================] - 0s 2ms/step - loss: 1.4726 - dense_loss: 0.1251 - dense_1_loss: 1.3475 - val_loss: 1.5691 - val_dense_loss: 0.1302 - val_dense_1_loss: 1.4389\n",
      "Epoch 44/100\n",
      "44/44 [==============================] - 0s 2ms/step - loss: 1.4624 - dense_loss: 0.1243 - dense_1_loss: 1.3381 - val_loss: 1.5608 - val_dense_loss: 0.1228 - val_dense_1_loss: 1.4381\n",
      "Epoch 45/100\n",
      "44/44 [==============================] - 0s 2ms/step - loss: 1.4640 - dense_loss: 0.1215 - dense_1_loss: 1.3425 - val_loss: 1.5708 - val_dense_loss: 0.1229 - val_dense_1_loss: 1.4478\n",
      "Epoch 46/100\n",
      "44/44 [==============================] - 0s 2ms/step - loss: 1.4556 - dense_loss: 0.1196 - dense_1_loss: 1.3360 - val_loss: 1.5498 - val_dense_loss: 0.1206 - val_dense_1_loss: 1.4292\n",
      "Epoch 47/100\n",
      "44/44 [==============================] - 0s 2ms/step - loss: 1.4459 - dense_loss: 0.1155 - dense_1_loss: 1.3304 - val_loss: 1.5449 - val_dense_loss: 0.1170 - val_dense_1_loss: 1.4280\n",
      "Epoch 48/100\n",
      "44/44 [==============================] - 0s 2ms/step - loss: 1.4548 - dense_loss: 0.1157 - dense_1_loss: 1.3391 - val_loss: 1.6582 - val_dense_loss: 0.1544 - val_dense_1_loss: 1.5038\n",
      "Epoch 49/100\n",
      "44/44 [==============================] - 0s 2ms/step - loss: 1.4652 - dense_loss: 0.1156 - dense_1_loss: 1.3496 - val_loss: 1.5391 - val_dense_loss: 0.1142 - val_dense_1_loss: 1.4249\n",
      "Epoch 50/100\n",
      "44/44 [==============================] - 0s 2ms/step - loss: 1.4369 - dense_loss: 0.1143 - dense_1_loss: 1.3226 - val_loss: 1.5962 - val_dense_loss: 0.1200 - val_dense_1_loss: 1.4762\n",
      "Epoch 51/100\n",
      "44/44 [==============================] - 0s 2ms/step - loss: 1.4338 - dense_loss: 0.1132 - dense_1_loss: 1.3206 - val_loss: 1.5355 - val_dense_loss: 0.1125 - val_dense_1_loss: 1.4230\n",
      "Epoch 52/100\n",
      "44/44 [==============================] - 0s 3ms/step - loss: 1.4402 - dense_loss: 0.1135 - dense_1_loss: 1.3267 - val_loss: 1.6449 - val_dense_loss: 0.1230 - val_dense_1_loss: 1.5219\n",
      "Epoch 53/100\n",
      "44/44 [==============================] - 0s 2ms/step - loss: 1.4607 - dense_loss: 0.1130 - dense_1_loss: 1.3476 - val_loss: 1.5911 - val_dense_loss: 0.1238 - val_dense_1_loss: 1.4674\n",
      "Epoch 54/100\n",
      "44/44 [==============================] - 0s 2ms/step - loss: 1.4297 - dense_loss: 0.1100 - dense_1_loss: 1.3196 - val_loss: 1.5289 - val_dense_loss: 0.1077 - val_dense_1_loss: 1.4212\n",
      "Epoch 55/100\n",
      "44/44 [==============================] - 0s 2ms/step - loss: 1.4675 - dense_loss: 0.1079 - dense_1_loss: 1.3596 - val_loss: 1.5356 - val_dense_loss: 0.1046 - val_dense_1_loss: 1.4310\n",
      "Epoch 56/100\n",
      "44/44 [==============================] - 0s 2ms/step - loss: 1.4498 - dense_loss: 0.1057 - dense_1_loss: 1.3441 - val_loss: 1.5212 - val_dense_loss: 0.1041 - val_dense_1_loss: 1.4172\n",
      "Epoch 57/100\n",
      "44/44 [==============================] - 0s 2ms/step - loss: 1.4288 - dense_loss: 0.1055 - dense_1_loss: 1.3233 - val_loss: 1.5501 - val_dense_loss: 0.1190 - val_dense_1_loss: 1.4311\n",
      "Epoch 58/100\n",
      "44/44 [==============================] - 0s 2ms/step - loss: 1.4335 - dense_loss: 0.1090 - dense_1_loss: 1.3245 - val_loss: 1.6257 - val_dense_loss: 0.1315 - val_dense_1_loss: 1.4941\n",
      "Epoch 59/100\n",
      "44/44 [==============================] - 0s 2ms/step - loss: 1.4485 - dense_loss: 0.1027 - dense_1_loss: 1.3459 - val_loss: 1.6605 - val_dense_loss: 0.1289 - val_dense_1_loss: 1.5316\n",
      "Epoch 60/100\n",
      "44/44 [==============================] - 0s 2ms/step - loss: 1.4256 - dense_loss: 0.1038 - dense_1_loss: 1.3218 - val_loss: 1.5265 - val_dense_loss: 0.1001 - val_dense_1_loss: 1.4264\n",
      "Epoch 61/100\n",
      "44/44 [==============================] - 0s 2ms/step - loss: 1.4378 - dense_loss: 0.1034 - dense_1_loss: 1.3345 - val_loss: 1.6141 - val_dense_loss: 0.1096 - val_dense_1_loss: 1.5045\n",
      "Epoch 62/100\n",
      "44/44 [==============================] - 0s 2ms/step - loss: 1.4212 - dense_loss: 0.1011 - dense_1_loss: 1.3201 - val_loss: 1.6292 - val_dense_loss: 0.1099 - val_dense_1_loss: 1.5194\n",
      "Epoch 63/100\n",
      "44/44 [==============================] - 0s 2ms/step - loss: 1.4133 - dense_loss: 0.1011 - dense_1_loss: 1.3123 - val_loss: 1.6674 - val_dense_loss: 0.1224 - val_dense_1_loss: 1.5450\n",
      "Epoch 64/100\n",
      "44/44 [==============================] - 0s 2ms/step - loss: 1.4225 - dense_loss: 0.1013 - dense_1_loss: 1.3211 - val_loss: 1.5143 - val_dense_loss: 0.0959 - val_dense_1_loss: 1.4184\n",
      "Epoch 65/100\n",
      "44/44 [==============================] - 0s 2ms/step - loss: 1.4291 - dense_loss: 0.1005 - dense_1_loss: 1.3286 - val_loss: 1.5185 - val_dense_loss: 0.0960 - val_dense_1_loss: 1.4226\n",
      "Epoch 66/100\n",
      "44/44 [==============================] - 0s 2ms/step - loss: 1.4252 - dense_loss: 0.0977 - dense_1_loss: 1.3275 - val_loss: 1.5150 - val_dense_loss: 0.0954 - val_dense_1_loss: 1.4196\n",
      "Epoch 67/100\n",
      "44/44 [==============================] - 0s 2ms/step - loss: 1.4403 - dense_loss: 0.0985 - dense_1_loss: 1.3418 - val_loss: 1.5595 - val_dense_loss: 0.1003 - val_dense_1_loss: 1.4592\n",
      "Epoch 68/100\n",
      "44/44 [==============================] - 0s 3ms/step - loss: 1.4204 - dense_loss: 0.0993 - dense_1_loss: 1.3211 - val_loss: 1.5893 - val_dense_loss: 0.1247 - val_dense_1_loss: 1.4646\n",
      "Epoch 69/100\n",
      "44/44 [==============================] - 0s 2ms/step - loss: 1.4197 - dense_loss: 0.0970 - dense_1_loss: 1.3227 - val_loss: 1.7865 - val_dense_loss: 0.1410 - val_dense_1_loss: 1.6456\n",
      "Epoch 70/100\n",
      "44/44 [==============================] - 0s 2ms/step - loss: 1.4237 - dense_loss: 0.0978 - dense_1_loss: 1.3259 - val_loss: 1.5318 - val_dense_loss: 0.0940 - val_dense_1_loss: 1.4378\n",
      "Epoch 71/100\n",
      "44/44 [==============================] - 0s 2ms/step - loss: 1.4170 - dense_loss: 0.0952 - dense_1_loss: 1.3219 - val_loss: 1.7175 - val_dense_loss: 0.1217 - val_dense_1_loss: 1.5958\n",
      "Epoch 72/100\n",
      "44/44 [==============================] - 0s 2ms/step - loss: 1.4374 - dense_loss: 0.0989 - dense_1_loss: 1.3385 - val_loss: 1.5581 - val_dense_loss: 0.1011 - val_dense_1_loss: 1.4570\n",
      "Epoch 73/100\n",
      "44/44 [==============================] - 0s 2ms/step - loss: 1.4248 - dense_loss: 0.0958 - dense_1_loss: 1.3290 - val_loss: 1.5123 - val_dense_loss: 0.0905 - val_dense_1_loss: 1.4217\n",
      "Epoch 74/100\n",
      "44/44 [==============================] - 0s 2ms/step - loss: 1.4416 - dense_loss: 0.0956 - dense_1_loss: 1.3460 - val_loss: 1.5286 - val_dense_loss: 0.0900 - val_dense_1_loss: 1.4386\n",
      "Epoch 75/100\n",
      "44/44 [==============================] - 0s 2ms/step - loss: 1.4237 - dense_loss: 0.0973 - dense_1_loss: 1.3264 - val_loss: 1.5119 - val_dense_loss: 0.0889 - val_dense_1_loss: 1.4230\n",
      "Epoch 76/100\n",
      "44/44 [==============================] - 0s 2ms/step - loss: 1.4119 - dense_loss: 0.0947 - dense_1_loss: 1.3172 - val_loss: 1.5192 - val_dense_loss: 0.0882 - val_dense_1_loss: 1.4310\n",
      "Epoch 77/100\n",
      "44/44 [==============================] - 0s 2ms/step - loss: 1.4143 - dense_loss: 0.0913 - dense_1_loss: 1.3230 - val_loss: 1.5504 - val_dense_loss: 0.1050 - val_dense_1_loss: 1.4453\n",
      "Epoch 78/100\n",
      "44/44 [==============================] - 0s 2ms/step - loss: 1.4345 - dense_loss: 0.0941 - dense_1_loss: 1.3404 - val_loss: 1.5073 - val_dense_loss: 0.0870 - val_dense_1_loss: 1.4203\n",
      "Epoch 79/100\n",
      "44/44 [==============================] - 0s 2ms/step - loss: 1.4103 - dense_loss: 0.0918 - dense_1_loss: 1.3184 - val_loss: 1.6120 - val_dense_loss: 0.1218 - val_dense_1_loss: 1.4901\n",
      "Epoch 80/100\n",
      "44/44 [==============================] - 0s 2ms/step - loss: 1.4193 - dense_loss: 0.0949 - dense_1_loss: 1.3244 - val_loss: 1.5917 - val_dense_loss: 0.0928 - val_dense_1_loss: 1.4988\n",
      "Epoch 81/100\n",
      "44/44 [==============================] - 0s 2ms/step - loss: 1.4090 - dense_loss: 0.0934 - dense_1_loss: 1.3156 - val_loss: 1.5089 - val_dense_loss: 0.0861 - val_dense_1_loss: 1.4227\n",
      "Epoch 82/100\n",
      "44/44 [==============================] - 0s 2ms/step - loss: 1.4220 - dense_loss: 0.0913 - dense_1_loss: 1.3307 - val_loss: 1.5051 - val_dense_loss: 0.0857 - val_dense_1_loss: 1.4194\n",
      "Epoch 83/100\n",
      "44/44 [==============================] - 0s 2ms/step - loss: 1.4035 - dense_loss: 0.0891 - dense_1_loss: 1.3143 - val_loss: 1.5548 - val_dense_loss: 0.0952 - val_dense_1_loss: 1.4595\n",
      "Epoch 84/100\n",
      "44/44 [==============================] - 0s 2ms/step - loss: 1.4225 - dense_loss: 0.0919 - dense_1_loss: 1.3307 - val_loss: 1.5540 - val_dense_loss: 0.0949 - val_dense_1_loss: 1.4591\n",
      "Epoch 85/100\n",
      "44/44 [==============================] - 0s 2ms/step - loss: 1.4200 - dense_loss: 0.0919 - dense_1_loss: 1.3281 - val_loss: 1.5849 - val_dense_loss: 0.0969 - val_dense_1_loss: 1.4880\n",
      "Epoch 86/100\n",
      "44/44 [==============================] - 0s 2ms/step - loss: 1.4244 - dense_loss: 0.0908 - dense_1_loss: 1.3335 - val_loss: 1.5110 - val_dense_loss: 0.0905 - val_dense_1_loss: 1.4205\n",
      "Epoch 87/100\n",
      "44/44 [==============================] - 0s 3ms/step - loss: 1.4133 - dense_loss: 0.0916 - dense_1_loss: 1.3216 - val_loss: 1.6009 - val_dense_loss: 0.1084 - val_dense_1_loss: 1.4925\n",
      "Epoch 88/100\n",
      "44/44 [==============================] - 0s 2ms/step - loss: 1.4092 - dense_loss: 0.0904 - dense_1_loss: 1.3188 - val_loss: 1.6739 - val_dense_loss: 0.1288 - val_dense_1_loss: 1.5451\n",
      "Epoch 89/100\n",
      "44/44 [==============================] - 0s 2ms/step - loss: 1.4219 - dense_loss: 0.0901 - dense_1_loss: 1.3318 - val_loss: 1.5087 - val_dense_loss: 0.0818 - val_dense_1_loss: 1.4269\n",
      "Epoch 90/100\n",
      "44/44 [==============================] - 0s 2ms/step - loss: 1.4197 - dense_loss: 0.0897 - dense_1_loss: 1.3300 - val_loss: 1.6124 - val_dense_loss: 0.1097 - val_dense_1_loss: 1.5027\n",
      "Epoch 91/100\n",
      "44/44 [==============================] - 0s 2ms/step - loss: 1.4231 - dense_loss: 0.0902 - dense_1_loss: 1.3330 - val_loss: 1.5491 - val_dense_loss: 0.0890 - val_dense_1_loss: 1.4601\n",
      "Epoch 92/100\n",
      "44/44 [==============================] - 0s 2ms/step - loss: 1.4155 - dense_loss: 0.0900 - dense_1_loss: 1.3255 - val_loss: 1.5327 - val_dense_loss: 0.0909 - val_dense_1_loss: 1.4418\n",
      "Epoch 93/100\n",
      "44/44 [==============================] - 0s 2ms/step - loss: 1.4207 - dense_loss: 0.0895 - dense_1_loss: 1.3312 - val_loss: 1.5473 - val_dense_loss: 0.0876 - val_dense_1_loss: 1.4596\n",
      "Epoch 94/100\n",
      "44/44 [==============================] - 0s 2ms/step - loss: 1.3998 - dense_loss: 0.0871 - dense_1_loss: 1.3127 - val_loss: 1.5594 - val_dense_loss: 0.0875 - val_dense_1_loss: 1.4719\n",
      "Epoch 95/100\n",
      "44/44 [==============================] - 0s 2ms/step - loss: 1.4000 - dense_loss: 0.0892 - dense_1_loss: 1.3108 - val_loss: 1.7307 - val_dense_loss: 0.1277 - val_dense_1_loss: 1.6030\n",
      "Epoch 96/100\n",
      "44/44 [==============================] - 0s 2ms/step - loss: 1.4359 - dense_loss: 0.0900 - dense_1_loss: 1.3458 - val_loss: 1.5054 - val_dense_loss: 0.0827 - val_dense_1_loss: 1.4227\n",
      "Epoch 97/100\n",
      "44/44 [==============================] - 0s 2ms/step - loss: 1.4144 - dense_loss: 0.0904 - dense_1_loss: 1.3239 - val_loss: 1.5279 - val_dense_loss: 0.0861 - val_dense_1_loss: 1.4418\n",
      "Epoch 98/100\n",
      "44/44 [==============================] - 0s 2ms/step - loss: 1.4135 - dense_loss: 0.0852 - dense_1_loss: 1.3282 - val_loss: 1.5185 - val_dense_loss: 0.0819 - val_dense_1_loss: 1.4366\n",
      "Epoch 99/100\n",
      "44/44 [==============================] - 0s 2ms/step - loss: 1.3990 - dense_loss: 0.0843 - dense_1_loss: 1.3146 - val_loss: 1.5950 - val_dense_loss: 0.1067 - val_dense_1_loss: 1.4883\n",
      "Epoch 100/100\n",
      "44/44 [==============================] - 0s 2ms/step - loss: 1.4369 - dense_loss: 0.0890 - dense_1_loss: 1.3479 - val_loss: 1.5046 - val_dense_loss: 0.0791 - val_dense_1_loss: 1.4255\n"
     ]
    }
   ],
   "source": [
    "history = model.fit(x=train_dic['X'], y=[train_dic['a'], train_dic['y']], epochs=100, validation_data=(test_dic['X'], [test_dic['a'], test_dic['y']]))"
   ]
  },
  {
   "cell_type": "code",
   "execution_count": 11,
   "metadata": {},
   "outputs": [
    {
     "data": {
      "image/png": "[encoded data removed]",
      "text/plain": [
       "<Figure size 432x288 with 1 Axes>"
      ]
     },
     "metadata": {
      "needs_background": "light"
     },
     "output_type": "display_data"
    }
   ],
   "source": [
    "import matplotlib.pyplot as plt\n",
    "\n",
    "plt.plot(history.history['dense_1_loss'])\n",
    "plt.plot(history.history['val_dense_1_loss'])\n",
    "plt.title('model mse')\n",
    "plt.ylabel('mse')\n",
    "plt.xlabel('epoch')\n",
    "plt.legend(['train', 'val'], loc='best')\n",
    "plt.show()"
   ]
  },
  {
   "cell_type": "code",
   "execution_count": 13,
   "metadata": {},
   "outputs": [
    {
     "data": {
      "text/plain": [
       "1.6030499935150146"
      ]
     },
     "execution_count": 13,
     "metadata": {},
     "output_type": "execute_result"
    }
   ],
   "source": [
    "history.history['val_dense_1_loss'][np.argmin(history.history['dense_1_loss'])]"
   ]
  },
  {
   "cell_type": "code",
   "execution_count": 20,
   "metadata": {},
   "outputs": [
    {
     "data": {
      "text/html": [
       "<div>\n",
       "<style scoped>\n",
       "    .dataframe tbody tr th:only-of-type {\n",
       "        vertical-align: middle;\n",
       "    }\n",
       "\n",
       "    .dataframe tbody tr th {\n",
       "        vertical-align: top;\n",
       "    }\n",
       "\n",
       "    .dataframe thead th {\n",
       "        text-align: right;\n",
       "    }\n",
       "</style>\n",
       "<table border=\"1\" class=\"dataframe\">\n",
       "  <thead>\n",
       "    <tr style=\"text-align: right;\">\n",
       "      <th></th>\n",
       "      <th>ncipr_how_severe_self</th>\n",
       "    </tr>\n",
       "  </thead>\n",
       "  <tbody>\n",
       "    <tr>\n",
       "      <th>count</th>\n",
       "      <td>1397.000000</td>\n",
       "    </tr>\n",
       "    <tr>\n",
       "      <th>mean</th>\n",
       "      <td>1.513243</td>\n",
       "    </tr>\n",
       "    <tr>\n",
       "      <th>std</th>\n",
       "      <td>1.435082</td>\n",
       "    </tr>\n",
       "    <tr>\n",
       "      <th>min</th>\n",
       "      <td>0.000000</td>\n",
       "    </tr>\n",
       "    <tr>\n",
       "      <th>25%</th>\n",
       "      <td>1.000000</td>\n",
       "    </tr>\n",
       "    <tr>\n",
       "      <th>50%</th>\n",
       "      <td>1.000000</td>\n",
       "    </tr>\n",
       "    <tr>\n",
       "      <th>75%</th>\n",
       "      <td>3.000000</td>\n",
       "    </tr>\n",
       "    <tr>\n",
       "      <th>max</th>\n",
       "      <td>4.000000</td>\n",
       "    </tr>\n",
       "  </tbody>\n",
       "</table>\n",
       "</div>"
      ],
      "text/plain": [
       "       ncipr_how_severe_self\n",
       "count            1397.000000\n",
       "mean                1.513243\n",
       "std                 1.435082\n",
       "min                 0.000000\n",
       "25%                 1.000000\n",
       "50%                 1.000000\n",
       "75%                 3.000000\n",
       "max                 4.000000"
      ]
     },
     "execution_count": 20,
     "metadata": {},
     "output_type": "execute_result"
    }
   ],
   "source": [
    "# train_dic['y'].describe()"
   ]
  },
  {
   "cell_type": "code",
   "execution_count": null,
   "metadata": {},
   "outputs": [],
   "source": [
    "# import keras.backend as K\n",
    "\n",
    "# def customLoss(yTrue,yPred):\n",
    "#     return K.sum(K.log(yTrue) - K.log(yPred))"
   ]
  },
  {
   "cell_type": "code",
   "execution_count": 21,
   "metadata": {},
   "outputs": [],
   "source": [
    "# import seaborn as sns"
   ]
  },
  {
   "cell_type": "code",
   "execution_count": 22,
   "metadata": {},
   "outputs": [
    {
     "data": {
      "text/plain": [
       "<seaborn.axisgrid.FacetGrid at 0x7f83ac39c520>"
      ]
     },
     "execution_count": 22,
     "metadata": {},
     "output_type": "execute_result"
    },
    {
     "data": {
      "image/png": "[encoded data removed]",
      "text/plain": [
       "<Figure size 507.875x360 with 1 Axes>"
      ]
     },
     "metadata": {
      "needs_background": "light"
     },
     "output_type": "display_data"
    }
   ],
   "source": [
    "# sns.displot(train_dic['y'])"
   ]
  },
  {
   "cell_type": "code",
   "execution_count": 14,
   "metadata": {},
   "outputs": [],
   "source": [
    "from sklearn.linear_model import LinearRegression\n",
    "from sklearn.linear_model import LogisticRegression"
   ]
  },
  {
   "cell_type": "code",
   "execution_count": 20,
   "metadata": {},
   "outputs": [],
   "source": [
    "a = LogisticRegression(penalty='none', max_iter=1000).fit(train_dic['X'], train_dic['a'].to_numpy().ravel())"
   ]
  },
  {
   "cell_type": "code",
   "execution_count": 21,
   "metadata": {},
   "outputs": [
    {
     "data": {
      "text/plain": [
       "0.9255547602004295"
      ]
     },
     "execution_count": 21,
     "metadata": {},
     "output_type": "execute_result"
    }
   ],
   "source": [
    "a.score(train_dic['X'], train_dic['a'].to_numpy().ravel())"
   ]
  },
  {
   "cell_type": "code",
   "execution_count": 24,
   "metadata": {},
   "outputs": [],
   "source": [
    "a_hat = a.predict(train_dic['X']).reshape(-1, 1)"
   ]
  },
  {
   "cell_type": "code",
   "execution_count": 25,
   "metadata": {},
   "outputs": [],
   "source": [
    "y = LinearRegression().fit(np.concatenate((train_dic['X'], a_hat), axis=1), train_dic['y'])"
   ]
  },
  {
   "cell_type": "code",
   "execution_count": 27,
   "metadata": {},
   "outputs": [],
   "source": [
    "y_hat = y.predict(np.concatenate((test_dic['X'], a.predict(test_dic['X']).reshape(-1, 1)), axis=1))"
   ]
  },
  {
   "cell_type": "code",
   "execution_count": 28,
   "metadata": {},
   "outputs": [],
   "source": [
    "from sklearn.metrics import mean_squared_error"
   ]
  },
  {
   "cell_type": "code",
   "execution_count": 29,
   "metadata": {},
   "outputs": [
    {
     "data": {
      "text/plain": [
       "1.411753"
      ]
     },
     "execution_count": 29,
     "metadata": {},
     "output_type": "execute_result"
    }
   ],
   "source": [
    "mean_squared_error(y_hat, test_dic['y'])"
   ]
  },
  {
   "cell_type": "code",
   "execution_count": null,
   "metadata": {},
   "outputs": [],
   "source": []
  }
 ],
 "metadata": {
  "interpreter": {
   "hash": "18205b7671c3b1a2968bf62dbaf8af2c8d2e76e01b9c19fe53200cb0bef1a871"
  },
  "kernelspec": {
   "display_name": "Python 3.9.5 ('.py39.env': venv)",
   "language": "python",
   "name": "python3"
  },
  "language_info": {
   "codemirror_mode": {
    "name": "ipython",
    "version": 3
   },
   "file_extension": ".py",
   "mimetype": "text/x-python",
   "name": "python",
   "nbconvert_exporter": "python",
   "pygments_lexer": "ipython3",
   "version": "3.9.5"
  },
  "orig_nbformat": 4
 },
 "nbformat": 4,
 "nbformat_minor": 2
}
